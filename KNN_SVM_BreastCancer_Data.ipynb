{
 "cells": [
  {
   "cell_type": "code",
   "execution_count": 1,
   "metadata": {},
   "outputs": [],
   "source": [
    "import numpy as np\n",
    "#from sklearn.datasets.samples_generator import make_blobs\n",
    "from sklearn.model_selection import train_test_split\n",
    "from matplotlib import pyplot as plt\n",
    "from sklearn.svm import LinearSVC\n",
    "from sklearn.metrics import confusion_matrix\n",
    "from sklearn import svm\n",
    "from sklearn.svm import SVC"
   ]
  },
  {
   "cell_type": "code",
   "execution_count": 2,
   "metadata": {},
   "outputs": [
    {
     "name": "stdout",
     "output_type": "stream",
     "text": [
      "         id diagnosis  radius_mean  texture_mean  perimeter_mean  area_mean  \\\n",
      "0  87139402         B        12.32         12.39           78.85      464.1   \n",
      "1   8910251         B        10.60         18.95           69.28      346.4   \n",
      "2    905520         B        11.04         16.83           70.92      373.2   \n",
      "3    868871         B        11.28         13.39           73.00      384.8   \n",
      "4   9012568         B        15.19         13.21           97.65      711.8   \n",
      "\n",
      "   smoothness_mean  compactness_mean  concavity_mean  points_mean  ...  \\\n",
      "0          0.10280           0.06981         0.03987      0.03700  ...   \n",
      "1          0.09688           0.11470         0.06387      0.02642  ...   \n",
      "2          0.10770           0.07804         0.03046      0.02480  ...   \n",
      "3          0.11640           0.11360         0.04635      0.04796  ...   \n",
      "4          0.07963           0.06934         0.03393      0.02657  ...   \n",
      "\n",
      "   radius_worst  texture_worst  perimeter_worst  area_worst  smoothness_worst  \\\n",
      "0         13.50          15.64            86.97       549.1            0.1385   \n",
      "1         11.88          22.94            78.28       424.8            0.1213   \n",
      "2         12.41          26.44            79.93       471.4            0.1369   \n",
      "3         11.92          15.77            76.53       434.0            0.1367   \n",
      "4         16.20          15.73           104.50       819.1            0.1126   \n",
      "\n",
      "   compactness_worst  concavity_worst  points_worst  symmetry_worst  \\\n",
      "0             0.1266          0.12420       0.09391          0.2827   \n",
      "1             0.2515          0.19160       0.07926          0.2940   \n",
      "2             0.1482          0.10670       0.07431          0.2998   \n",
      "3             0.1822          0.08669       0.08611          0.2102   \n",
      "4             0.1737          0.13620       0.08178          0.2487   \n",
      "\n",
      "   dimension_worst  \n",
      "0          0.06771  \n",
      "1          0.07587  \n",
      "2          0.07881  \n",
      "3          0.06784  \n",
      "4          0.06766  \n",
      "\n",
      "[5 rows x 32 columns]\n"
     ]
    }
   ],
   "source": [
    "# Loading Data Files\n",
    "import pandas as pd\n",
    "wisc_bc = pd.read_csv(r\"C:\\MachineLearning\\Breast_Cancer_KNN\\wisc_bc_data.csv\")\n",
    "print(wisc_bc.head())"
   ]
  },
  {
   "cell_type": "code",
   "execution_count": 3,
   "metadata": {},
   "outputs": [
    {
     "name": "stdout",
     "output_type": "stream",
     "text": [
      "<class 'pandas.core.frame.DataFrame'>\n",
      "RangeIndex: 569 entries, 0 to 568\n",
      "Data columns (total 32 columns):\n",
      " #   Column             Non-Null Count  Dtype  \n",
      "---  ------             --------------  -----  \n",
      " 0   id                 569 non-null    int64  \n",
      " 1   diagnosis          569 non-null    object \n",
      " 2   radius_mean        569 non-null    float64\n",
      " 3   texture_mean       569 non-null    float64\n",
      " 4   perimeter_mean     569 non-null    float64\n",
      " 5   area_mean          569 non-null    float64\n",
      " 6   smoothness_mean    569 non-null    float64\n",
      " 7   compactness_mean   569 non-null    float64\n",
      " 8   concavity_mean     569 non-null    float64\n",
      " 9   points_mean        569 non-null    float64\n",
      " 10  symmetry_mean      569 non-null    float64\n",
      " 11  dimension_mean     569 non-null    float64\n",
      " 12  radius_se          569 non-null    float64\n",
      " 13  texture_se         569 non-null    float64\n",
      " 14  perimeter_se       569 non-null    float64\n",
      " 15  area_se            569 non-null    float64\n",
      " 16  smoothness_se      569 non-null    float64\n",
      " 17  compactness_se     569 non-null    float64\n",
      " 18  concavity_se       569 non-null    float64\n",
      " 19  points_se          569 non-null    float64\n",
      " 20  symmetry_se        569 non-null    float64\n",
      " 21  dimension_se       569 non-null    float64\n",
      " 22  radius_worst       569 non-null    float64\n",
      " 23  texture_worst      569 non-null    float64\n",
      " 24  perimeter_worst    569 non-null    float64\n",
      " 25  area_worst         569 non-null    float64\n",
      " 26  smoothness_worst   569 non-null    float64\n",
      " 27  compactness_worst  569 non-null    float64\n",
      " 28  concavity_worst    569 non-null    float64\n",
      " 29  points_worst       569 non-null    float64\n",
      " 30  symmetry_worst     569 non-null    float64\n",
      " 31  dimension_worst    569 non-null    float64\n",
      "dtypes: float64(30), int64(1), object(1)\n",
      "memory usage: 142.4+ KB\n"
     ]
    }
   ],
   "source": [
    "wisc_bc.isna().sum()\n",
    "wisc_bc.dtypes\n",
    "wisc_bc.info()"
   ]
  },
  {
   "cell_type": "code",
   "execution_count": 4,
   "metadata": {},
   "outputs": [],
   "source": [
    "from sklearn.preprocessing import LabelEncoder\n",
    "lr= LabelEncoder()\n",
    "wisc_bc['diagnosis']=lr.fit_transform(wisc_bc['diagnosis'])\n"
   ]
  },
  {
   "cell_type": "code",
   "execution_count": 5,
   "metadata": {},
   "outputs": [],
   "source": [
    "X=wisc_bc.drop('diagnosis',axis=1)\n",
    "Y=wisc_bc['diagnosis']"
   ]
  },
  {
   "cell_type": "code",
   "execution_count": 6,
   "metadata": {},
   "outputs": [],
   "source": [
    "# The fit_transform method is called on the StandardScaler instance (ss) with X as the argument. Here, X represents the data that you want to standardize.\n",
    "# here X_s is the standardized data, X is the original data, mean(X) is the mean of X, and std(X) is the standard deviation of X\n",
    "\n",
    "from sklearn.preprocessing import StandardScaler\n",
    "ss=StandardScaler()\n",
    "X_s=ss.fit_transform(X)"
   ]
  },
  {
   "cell_type": "code",
   "execution_count": 7,
   "metadata": {},
   "outputs": [],
   "source": [
    "from sklearn.model_selection import train_test_split\n",
    "#train_test_split function randomly shuffles the data and splits it into four subsets\n",
    "xtr,xte,ytr,yte=train_test_split(X_s,Y,test_size=0.7) #specifies that 70% of the data should be allocated for testing, while the remaining 30% will be used for training."
   ]
  },
  {
   "cell_type": "code",
   "execution_count": 8,
   "metadata": {},
   "outputs": [],
   "source": [
    "from sklearn.tree import DecisionTreeClassifier\n",
    "clf_dt=DecisionTreeClassifier()\n",
    "#The classifier learns patterns in the training data to make predictions.\n",
    "clf_dt.fit(xtr,ytr)\n",
    "ypre_dt=clf_dt.predict(xte)\n",
    "# This line uses the trained classifier (clf_dt) to predict the labels for the testing set (xte). \n",
    "# The predict method takes the testing set's input features as an argument and returns the predicted labels. \n",
    "# The predicted labels are then assigned to the variable ypre_dt."
   ]
  },
  {
   "cell_type": "code",
   "execution_count": 9,
   "metadata": {},
   "outputs": [],
   "source": [
    "# from sklearn.neural_network import\n",
    "# demonstrated the usage of scikit-learn's MLPClassifier for classification tasks using a multi-layer perceptron (MLP) neural network.\n",
    "# Chose two hidden layers, the first with 5 neurons and the second with 2 neurons\n",
    "from sklearn.neural_network import MLPClassifier\n",
    "clf_nn = MLPClassifier(solver='lbfgs', alpha=1e-5,hidden_layer_sizes=(5, 2), random_state=1)\n",
    "clf_nn.fit(xtr,ytr)\n",
    "ypre_nn=clf_nn.predict(xte)"
   ]
  },
  {
   "cell_type": "code",
   "execution_count": 10,
   "metadata": {},
   "outputs": [
    {
     "name": "stdout",
     "output_type": "stream",
     "text": [
      "[[232  17]\n",
      " [ 16 134]]\n",
      "[[243   6]\n",
      " [ 10 140]]\n"
     ]
    }
   ],
   "source": [
    "from sklearn.metrics import confusion_matrix\n",
    "cm1=confusion_matrix(yte,ypre_dt)\n",
    "cm2=confusion_matrix(yte,ypre_nn)\n",
    "print(cm1)\n",
    "print(cm2)"
   ]
  },
  {
   "cell_type": "code",
   "execution_count": 11,
   "metadata": {},
   "outputs": [
    {
     "name": "stdout",
     "output_type": "stream",
     "text": [
      "0.9172932330827067\n",
      "0.9598997493734336\n"
     ]
    }
   ],
   "source": [
    "from sklearn.metrics import accuracy_score\n",
    "print(accuracy_score(yte,ypre_dt))\n",
    "print(accuracy_score(yte,ypre_nn))"
   ]
  },
  {
   "cell_type": "code",
   "execution_count": 12,
   "metadata": {},
   "outputs": [
    {
     "data": {
      "text/plain": [
       "<AxesSubplot:>"
      ]
     },
     "execution_count": 12,
     "metadata": {},
     "output_type": "execute_result"
    },
    {
     "data": {
      "image/png": "[encoded data removed]",
      "text/plain": [
       "<Figure size 640x480 with 2 Axes>"
      ]
     },
     "metadata": {},
     "output_type": "display_data"
    }
   ],
   "source": [
    "import seaborn as sns\n",
    "sns.heatmap(cm1,annot=True,fmt='.1f', cmap= 'Blues') # Based on Decision Tree Classifier\n"
   ]
  },
  {
   "cell_type": "code",
   "execution_count": 13,
   "metadata": {},
   "outputs": [
    {
     "data": {
      "text/plain": [
       "<AxesSubplot:>"
      ]
     },
     "execution_count": 13,
     "metadata": {},
     "output_type": "execute_result"
    },
    {
     "data": {
      "image/png": "[encoded data removed]",
      "text/plain": [
       "<Figure size 640x480 with 2 Axes>"
      ]
     },
     "metadata": {},
     "output_type": "display_data"
    }
   ],
   "source": [
    "sns.heatmap(cm2,annot=True,fmt='.1f', cmap = 'coolwarm') # Based on Neural Network"
   ]
  },
  {
   "cell_type": "code",
   "execution_count": 15,
   "metadata": {},
   "outputs": [
    {
     "data": {
      "text/plain": [
       "SVC(C=1, kernel='linear', random_state=0)"
      ]
     },
     "execution_count": 15,
     "metadata": {},
     "output_type": "execute_result"
    }
   ],
   "source": [
    "linear_svm = SVC(kernel='linear', C=1, random_state=0)\n",
    "linear_svm.fit(X=xtr, y= ytr)"
   ]
  },
  {
   "attachments": {},
   "cell_type": "markdown",
   "metadata": {},
   "source": [
    "SVM"
   ]
  },
  {
   "cell_type": "code",
   "execution_count": 17,
   "metadata": {},
   "outputs": [
    {
     "name": "stdout",
     "output_type": "stream",
     "text": [
      "Training Confusion Matrix : \n",
      " [[108   0]\n",
      " [  2  60]]\n",
      "\n",
      "TRAIN DATA ACCURACY 0.9882352941176471\n",
      "\n",
      "Train data f1-score for class '1' 0.9836065573770492\n",
      "\n",
      "Train data f1-score for class '2' 0.9908256880733944\n",
      "\n",
      "\n",
      "--------------------------------------\n",
      "\n",
      "\n",
      "Testing Confusion Matrix : \n",
      " [[242   7]\n",
      " [  9 141]]\n",
      "\n",
      "TEST DATA ACCURACY 0.9598997493734336\n",
      "\n",
      "Test data f1-score for class '1' 0.9463087248322148\n",
      "\n",
      "Test data f1-score for class '2' 0.968\n"
     ]
    }
   ],
   "source": [
    "train_predictions = linear_svm.predict(xtr)\n",
    "test_predictions = linear_svm.predict(xte)\n",
    "\n",
    "### Train data accuracy\n",
    "from sklearn.metrics import accuracy_score,f1_score\n",
    "\n",
    "print(\"Training Confusion Matrix : \\n\", confusion_matrix(ytr, train_predictions))\n",
    "print(\"\\nTRAIN DATA ACCURACY\",accuracy_score(ytr,train_predictions))\n",
    "print(\"\\nTrain data f1-score for class '1'\",f1_score(ytr,train_predictions,pos_label=1))\n",
    "print(\"\\nTrain data f1-score for class '2'\",f1_score(ytr,train_predictions,pos_label=0))\n",
    "\n",
    "### Test data accuracy\n",
    "print(\"\\n\\n--------------------------------------\\n\\n\")\n",
    "\n",
    "print(\"Testing Confusion Matrix : \\n\", confusion_matrix(yte, test_predictions))\n",
    "print(\"\\nTEST DATA ACCURACY\",accuracy_score(yte,test_predictions))\n",
    "print(\"\\nTest data f1-score for class '1'\",f1_score(yte,test_predictions,pos_label=1))\n",
    "print(\"\\nTest data f1-score for class '2'\",f1_score(yte,test_predictions,pos_label=0))"
   ]
  },
  {
   "attachments": {},
   "cell_type": "markdown",
   "metadata": {},
   "source": [
    "K-Nearest Neighbor"
   ]
  },
  {
   "cell_type": "code",
   "execution_count": 19,
   "metadata": {},
   "outputs": [
    {
     "data": {
      "text/plain": [
       "KNeighborsClassifier(n_neighbors=7)"
      ]
     },
     "execution_count": 19,
     "metadata": {},
     "output_type": "execute_result"
    }
   ],
   "source": [
    "from sklearn.neighbors import KNeighborsClassifier \n",
    "from sklearn.model_selection import train_test_split \n",
    "from sklearn.datasets import load_iris\n",
    "knn = KNeighborsClassifier(n_neighbors=7)\n",
    "knn.fit(xtr, ytr)"
   ]
  },
  {
   "cell_type": "code",
   "execution_count": 20,
   "metadata": {},
   "outputs": [
    {
     "name": "stdout",
     "output_type": "stream",
     "text": [
      "Training Confusion Matrix : \n",
      " [[106   2]\n",
      " [  5  57]]\n",
      "\n",
      "TRAIN DATA ACCURACY 0.9588235294117647\n",
      "\n",
      "Train data f1-score for class '1' 0.9421487603305785\n",
      "\n",
      "Train data f1-score for class '2' 0.9680365296803655\n",
      "\n",
      "\n",
      "--------------------------------------\n",
      "\n",
      "\n",
      "Testing Confusion Matrix : \n",
      " [[243   6]\n",
      " [ 17 133]]\n",
      "\n",
      "TEST DATA ACCURACY 0.9423558897243107\n",
      "\n",
      "Test data f1-score for class '1' 0.9204152249134949\n",
      "\n",
      "Test data f1-score for class '2' 0.9548133595284873\n"
     ]
    },
    {
     "name": "stderr",
     "output_type": "stream",
     "text": [
      "c:\\Users\\binay\\anaconda3\\lib\\site-packages\\sklearn\\neighbors\\_classification.py:228: FutureWarning: Unlike other reduction functions (e.g. `skew`, `kurtosis`), the default behavior of `mode` typically preserves the axis it acts along. In SciPy 1.11.0, this behavior will change: the default value of `keepdims` will become False, the `axis` over which the statistic is taken will be eliminated, and the value None will no longer be accepted. Set `keepdims` to True or False to avoid this warning.\n",
      "  mode, _ = stats.mode(_y[neigh_ind, k], axis=1)\n",
      "c:\\Users\\binay\\anaconda3\\lib\\site-packages\\sklearn\\neighbors\\_classification.py:228: FutureWarning: Unlike other reduction functions (e.g. `skew`, `kurtosis`), the default behavior of `mode` typically preserves the axis it acts along. In SciPy 1.11.0, this behavior will change: the default value of `keepdims` will become False, the `axis` over which the statistic is taken will be eliminated, and the value None will no longer be accepted. Set `keepdims` to True or False to avoid this warning.\n",
      "  mode, _ = stats.mode(_y[neigh_ind, k], axis=1)\n"
     ]
    }
   ],
   "source": [
    "train_predictions = knn.predict(xtr)\n",
    "test_predictions = knn.predict(xte)\n",
    "\n",
    "### Train data accuracy\n",
    "from sklearn.metrics import accuracy_score,f1_score\n",
    "\n",
    "print(\"Training Confusion Matrix : \\n\", confusion_matrix(ytr, train_predictions))\n",
    "print(\"\\nTRAIN DATA ACCURACY\",accuracy_score(ytr,train_predictions))\n",
    "print(\"\\nTrain data f1-score for class '1'\",f1_score(ytr,train_predictions,pos_label=1))\n",
    "print(\"\\nTrain data f1-score for class '2'\",f1_score(ytr,train_predictions,pos_label=0))\n",
    "\n",
    "### Test data accuracy\n",
    "print(\"\\n\\n--------------------------------------\\n\\n\")\n",
    "\n",
    "print(\"Testing Confusion Matrix : \\n\", confusion_matrix(yte, test_predictions))\n",
    "print(\"\\nTEST DATA ACCURACY\",accuracy_score(yte,test_predictions))\n",
    "print(\"\\nTest data f1-score for class '1'\",f1_score(yte,test_predictions,pos_label=1))\n",
    "print(\"\\nTest data f1-score for class '2'\",f1_score(yte,test_predictions,pos_label=0))"
   ]
  },
  {
   "attachments": {},
   "cell_type": "markdown",
   "metadata": {},
   "source": [
    "XGBoost"
   ]
  },
  {
   "cell_type": "code",
   "execution_count": 26,
   "metadata": {},
   "outputs": [],
   "source": [
    "from numpy import loadtxt\n",
    "from xgboost import XGBClassifier\n",
    "from sklearn.ensemble import RandomForestClassifier\n",
    "from sklearn.model_selection import train_test_split\n",
    "from sklearn.metrics import accuracy_score\n"
   ]
  },
  {
   "cell_type": "code",
   "execution_count": 29,
   "metadata": {},
   "outputs": [
    {
     "data": {
      "text/plain": [
       "XGBClassifier(base_score=None, booster=None, callbacks=None,\n",
       "              colsample_bylevel=None, colsample_bynode=None,\n",
       "              colsample_bytree=None, early_stopping_rounds=None,\n",
       "              enable_categorical=False, eval_metric=None, feature_types=None,\n",
       "              gamma=None, gpu_id=None, grow_policy=None, importance_type=None,\n",
       "              interaction_constraints=None, learning_rate=None, max_bin=None,\n",
       "              max_cat_threshold=None, max_cat_to_onehot=None,\n",
       "              max_delta_step=None, max_depth=None, max_leaves=None,\n",
       "              min_child_weight=None, missing=nan, monotone_constraints=None,\n",
       "              n_estimators=100, n_jobs=None, num_parallel_tree=None,\n",
       "              predictor=None, random_state=None, ...)"
      ]
     },
     "execution_count": 29,
     "metadata": {},
     "output_type": "execute_result"
    }
   ],
   "source": [
    "model = XGBClassifier()\n",
    "model.fit(xtr, ytr)"
   ]
  },
  {
   "cell_type": "code",
   "execution_count": 31,
   "metadata": {},
   "outputs": [
    {
     "data": {
      "text/plain": [
       "XGBClassifier(base_score=None, booster=None, callbacks=None,\n",
       "              colsample_bylevel=None, colsample_bynode=None,\n",
       "              colsample_bytree=None, early_stopping_rounds=None,\n",
       "              enable_categorical=False, eval_metric=None, feature_types=None,\n",
       "              gamma=None, gpu_id=None, grow_policy=None, importance_type=None,\n",
       "              interaction_constraints=None, learning_rate=None, max_bin=None,\n",
       "              max_cat_threshold=None, max_cat_to_onehot=None,\n",
       "              max_delta_step=None, max_depth=None, max_leaves=None,\n",
       "              min_child_weight=None, missing=nan, monotone_constraints=None,\n",
       "              n_estimators=100, n_jobs=None, num_parallel_tree=None,\n",
       "              predictor=None, random_state=None, ...)"
      ]
     },
     "execution_count": 31,
     "metadata": {},
     "output_type": "execute_result"
    }
   ],
   "source": [
    "from xgboost import XGBClassifier\n",
    "\n",
    "# Create an instance of the classifier\n",
    "classifier = XGBClassifier()\n",
    "\n",
    "# Train the classifier on the training data\n",
    "classifier.fit(xtr, ytr)"
   ]
  },
  {
   "cell_type": "code",
   "execution_count": 32,
   "metadata": {},
   "outputs": [
    {
     "name": "stdout",
     "output_type": "stream",
     "text": [
      "Traininf Confusion Matrix : \n",
      " [[108   0]\n",
      " [  0  62]]\n",
      "\n",
      "TRAIN DATA ACCURACY 1.0\n",
      "\n",
      "Train data f1-score for class '1' 1.0\n",
      "\n",
      "Train data f1-score for class '2' 1.0\n",
      "\n",
      "\n",
      "--------------------------------------\n",
      "\n",
      "\n",
      "Testing Confusion Matrix : \n",
      " [[240   9]\n",
      " [ 10 140]]\n",
      "\n",
      "TEST DATA ACCURACY 0.9523809523809523\n",
      "\n",
      "Test data f1-score for class '1' 0.9364548494983278\n",
      "\n",
      "Test data f1-score for class '2' 0.9619238476953907\n"
     ]
    }
   ],
   "source": [
    "# Make predictions on the training and test data\n",
    "train_predictions = classifier.predict(xtr)\n",
    "test_predictions = classifier.predict(xte)\n",
    "\n",
    "### Train data accuracy\n",
    "from sklearn.metrics import accuracy_score,f1_score\n",
    "\n",
    "print(\"Training Confusion Matrix : \\n\", confusion_matrix(ytr, train_predictions))\n",
    "print(\"\\nTRAIN DATA ACCURACY\",accuracy_score(ytr,train_predictions))\n",
    "print(\"\\nTrain data f1-score for class '1'\",f1_score(ytr,train_predictions,pos_label=1))\n",
    "print(\"\\nTrain data f1-score for class '2'\",f1_score(ytr,train_predictions,pos_label=0))\n",
    "\n",
    "### Test data accuracy\n",
    "print(\"\\n\\n--------------------------------------\\n\\n\")\n",
    "\n",
    "print(\"Testing Confusion Matrix : \\n\", confusion_matrix(yte, test_predictions))\n",
    "print(\"\\nTEST DATA ACCURACY\",accuracy_score(yte,test_predictions))\n",
    "print(\"\\nTest data f1-score for class '1'\",f1_score(yte,test_predictions,pos_label=1))\n",
    "print(\"\\nTest data f1-score for class '2'\",f1_score(yte,test_predictions,pos_label=0))"
   ]
  },
  {
   "attachments": {},
   "cell_type": "markdown",
   "metadata": {},
   "source": []
  },
  {
   "cell_type": "code",
   "execution_count": null,
   "metadata": {},
   "outputs": [],
   "source": [
    "import numpy as np\n",
    "#from sklearn.datasets.samples_generator import make_blobs\n",
    "from sklearn.model_selection import train_test_split\n",
    "from matplotlib import pyplot as plt\n",
    "from sklearn.svm import LinearSVC\n",
    "from sklearn.metrics import confusion_matrix\n",
    "from sklearn import svm\n",
    "from sklearn.svm import SVC"
   ]
  },
  {
   "cell_type": "code",
   "execution_count": null,
   "metadata": {},
   "outputs": [
    {
     "name": "stdout",
     "output_type": "stream",
     "text": [
      "         id diagnosis  radius_mean  texture_mean  perimeter_mean  area_mean  \\\n",
      "0  87139402         B        12.32         12.39           78.85      464.1   \n",
      "1   8910251         B        10.60         18.95           69.28      346.4   \n",
      "2    905520         B        11.04         16.83           70.92      373.2   \n",
      "3    868871         B        11.28         13.39           73.00      384.8   \n",
      "4   9012568         B        15.19         13.21           97.65      711.8   \n",
      "\n",
      "   smoothness_mean  compactness_mean  concavity_mean  points_mean  ...  \\\n",
      "0          0.10280           0.06981         0.03987      0.03700  ...   \n",
      "1          0.09688           0.11470         0.06387      0.02642  ...   \n",
      "2          0.10770           0.07804         0.03046      0.02480  ...   \n",
      "3          0.11640           0.11360         0.04635      0.04796  ...   \n",
      "4          0.07963           0.06934         0.03393      0.02657  ...   \n",
      "\n",
      "   radius_worst  texture_worst  perimeter_worst  area_worst  smoothness_worst  \\\n",
      "0         13.50          15.64            86.97       549.1            0.1385   \n",
      "1         11.88          22.94            78.28       424.8            0.1213   \n",
      "2         12.41          26.44            79.93       471.4            0.1369   \n",
      "3         11.92          15.77            76.53       434.0            0.1367   \n",
      "4         16.20          15.73           104.50       819.1            0.1126   \n",
      "\n",
      "   compactness_worst  concavity_worst  points_worst  symmetry_worst  \\\n",
      "0             0.1266          0.12420       0.09391          0.2827   \n",
      "1             0.2515          0.19160       0.07926          0.2940   \n",
      "2             0.1482          0.10670       0.07431          0.2998   \n",
      "3             0.1822          0.08669       0.08611          0.2102   \n",
      "4             0.1737          0.13620       0.08178          0.2487   \n",
      "\n",
      "   dimension_worst  \n",
      "0          0.06771  \n",
      "1          0.07587  \n",
      "2          0.07881  \n",
      "3          0.06784  \n",
      "4          0.06766  \n",
      "\n",
      "[5 rows x 32 columns]\n"
     ]
    }
   ],
   "source": [
    "# Loading Data Files\n",
    "import pandas as pd\n",
    "wisc_bc = pd.read_csv(r\"C:\\MachineLearning\\Breast_Cancer_KNN\\wisc_bc_data.csv\")\n",
    "print(wisc_bc.head())"
   ]
  },
  {
   "cell_type": "code",
   "execution_count": null,
   "metadata": {},
   "outputs": [
    {
     "name": "stdout",
     "output_type": "stream",
     "text": [
      "<class 'pandas.core.frame.DataFrame'>\n",
      "RangeIndex: 569 entries, 0 to 568\n",
      "Data columns (total 32 columns):\n",
      " #   Column             Non-Null Count  Dtype  \n",
      "---  ------             --------------  -----  \n",
      " 0   id                 569 non-null    int64  \n",
      " 1   diagnosis          569 non-null    object \n",
      " 2   radius_mean        569 non-null    float64\n",
      " 3   texture_mean       569 non-null    float64\n",
      " 4   perimeter_mean     569 non-null    float64\n",
      " 5   area_mean          569 non-null    float64\n",
      " 6   smoothness_mean    569 non-null    float64\n",
      " 7   compactness_mean   569 non-null    float64\n",
      " 8   concavity_mean     569 non-null    float64\n",
      " 9   points_mean        569 non-null    float64\n",
      " 10  symmetry_mean      569 non-null    float64\n",
      " 11  dimension_mean     569 non-null    float64\n",
      " 12  radius_se          569 non-null    float64\n",
      " 13  texture_se         569 non-null    float64\n",
      " 14  perimeter_se       569 non-null    float64\n",
      " 15  area_se            569 non-null    float64\n",
      " 16  smoothness_se      569 non-null    float64\n",
      " 17  compactness_se     569 non-null    float64\n",
      " 18  concavity_se       569 non-null    float64\n",
      " 19  points_se          569 non-null    float64\n",
      " 20  symmetry_se        569 non-null    float64\n",
      " 21  dimension_se       569 non-null    float64\n",
      " 22  radius_worst       569 non-null    float64\n",
      " 23  texture_worst      569 non-null    float64\n",
      " 24  perimeter_worst    569 non-null    float64\n",
      " 25  area_worst         569 non-null    float64\n",
      " 26  smoothness_worst   569 non-null    float64\n",
      " 27  compactness_worst  569 non-null    float64\n",
      " 28  concavity_worst    569 non-null    float64\n",
      " 29  points_worst       569 non-null    float64\n",
      " 30  symmetry_worst     569 non-null    float64\n",
      " 31  dimension_worst    569 non-null    float64\n",
      "dtypes: float64(30), int64(1), object(1)\n",
      "memory usage: 142.4+ KB\n"
     ]
    }
   ],
   "source": [
    "wisc_bc.isna().sum()\n",
    "wisc_bc.dtypes\n",
    "wisc_bc.info()"
   ]
  },
  {
   "cell_type": "code",
   "execution_count": null,
   "metadata": {},
   "outputs": [],
   "source": [
    "from sklearn.preprocessing import LabelEncoder\n",
    "lr= LabelEncoder()\n",
    "wisc_bc['diagnosis']=lr.fit_transform(wisc_bc['diagnosis'])\n"
   ]
  },
  {
   "cell_type": "code",
   "execution_count": null,
   "metadata": {},
   "outputs": [],
   "source": [
    "X=wisc_bc.drop('diagnosis',axis=1)\n",
    "Y=wisc_bc['diagnosis']"
   ]
  },
  {
   "cell_type": "code",
   "execution_count": null,
   "metadata": {},
   "outputs": [],
   "source": [
    "# The fit_transform method is called on the StandardScaler instance (ss) with X as the argument. Here, X represents the data that you want to standardize.\n",
    "# here X_s is the standardized data, X is the original data, mean(X) is the mean of X, and std(X) is the standard deviation of X\n",
    "\n",
    "from sklearn.preprocessing import StandardScaler\n",
    "ss=StandardScaler()\n",
    "X_s=ss.fit_transform(X)"
   ]
  },
  {
   "cell_type": "code",
   "execution_count": null,
   "metadata": {},
   "outputs": [],
   "source": [
    "from sklearn.model_selection import train_test_split\n",
    "#train_test_split function randomly shuffles the data and splits it into four subsets\n",
    "xtr,xte,ytr,yte=train_test_split(X_s,Y,test_size=0.7) #specifies that 70% of the data should be allocated for testing, while the remaining 30% will be used for training."
   ]
  },
  {
   "cell_type": "code",
   "execution_count": null,
   "metadata": {},
   "outputs": [],
   "source": [
    "from sklearn.tree import DecisionTreeClassifier\n",
    "clf_dt=DecisionTreeClassifier()\n",
    "#The classifier learns patterns in the training data to make predictions.\n",
    "clf_dt.fit(xtr,ytr)\n",
    "ypre_dt=clf_dt.predict(xte)\n",
    "# This line uses the trained classifier (clf_dt) to predict the labels for the testing set (xte). \n",
    "# The predict method takes the testing set's input features as an argument and returns the predicted labels. \n",
    "# The predicted labels are then assigned to the variable ypre_dt."
   ]
  },
  {
   "cell_type": "code",
   "execution_count": null,
   "metadata": {},
   "outputs": [],
   "source": [
    "# from sklearn.neural_network import\n",
    "# demonstrated the usage of scikit-learn's MLPClassifier for classification tasks using a multi-layer perceptron (MLP) neural network.\n",
    "# Chose two hidden layers, the first with 5 neurons and the second with 2 neurons\n",
    "from sklearn.neural_network import MLPClassifier\n",
    "clf_nn = MLPClassifier(solver='lbfgs', alpha=1e-5,hidden_layer_sizes=(5, 2), random_state=1)\n",
    "clf_nn.fit(xtr,ytr)\n",
    "ypre_nn=clf_nn.predict(xte)"
   ]
  },
  {
   "cell_type": "code",
   "execution_count": null,
   "metadata": {},
   "outputs": [
    {
     "name": "stdout",
     "output_type": "stream",
     "text": [
      "[[232  17]\n",
      " [ 16 134]]\n",
      "[[243   6]\n",
      " [ 10 140]]\n"
     ]
    }
   ],
   "source": [
    "from sklearn.metrics import confusion_matrix\n",
    "cm1=confusion_matrix(yte,ypre_dt)\n",
    "cm2=confusion_matrix(yte,ypre_nn)\n",
    "print(cm1)\n",
    "print(cm2)"
   ]
  },
  {
   "cell_type": "code",
   "execution_count": null,
   "metadata": {},
   "outputs": [
    {
     "name": "stdout",
     "output_type": "stream",
     "text": [
      "0.9172932330827067\n",
      "0.9598997493734336\n"
     ]
    }
   ],
   "source": [
    "from sklearn.metrics import accuracy_score\n",
    "print(accuracy_score(yte,ypre_dt))\n",
    "print(accuracy_score(yte,ypre_nn))"
   ]
  },
  {
   "cell_type": "code",
   "execution_count": null,
   "metadata": {},
   "outputs": [
    {
     "data": {
      "text/plain": [
       "<AxesSubplot:>"
      ]
     },
     "metadata": {},
     "output_type": "display_data"
    },
    {
     "data": {
      "image/png": "[encoded data removed]",
      "text/plain": [
       "<Figure size 640x480 with 2 Axes>"
      ]
     },
     "metadata": {},
     "output_type": "display_data"
    }
   ],
   "source": [
    "import seaborn as sns\n",
    "sns.heatmap(cm1,annot=True,fmt='.1f', cmap= 'Blues') # Based on Decision Tree Classifier\n"
   ]
  },
  {
   "cell_type": "code",
   "execution_count": null,
   "metadata": {},
   "outputs": [
    {
     "data": {
      "text/plain": [
       "<AxesSubplot:>"
      ]
     },
     "metadata": {},
     "output_type": "display_data"
    },
    {
     "data": {
      "image/png": "[encoded data removed]",
      "text/plain": [
       "<Figure size 640x480 with 2 Axes>"
      ]
     },
     "metadata": {},
     "output_type": "display_data"
    }
   ],
   "source": [
    "sns.heatmap(cm2,annot=True,fmt='.1f', cmap = 'coolwarm') # Based on Neural Network"
   ]
  },
  {
   "cell_type": "code",
   "execution_count": null,
   "metadata": {},
   "outputs": [
    {
     "data": {
      "text/plain": [
       "SVC(C=1, kernel='linear', random_state=0)"
      ]
     },
     "metadata": {},
     "output_type": "display_data"
    }
   ],
   "source": [
    "linear_svm = SVC(kernel='linear', C=1, random_state=0)\n",
    "linear_svm.fit(X=xtr, y= ytr)"
   ]
  },
  {
   "attachments": {},
   "cell_type": "markdown",
   "metadata": {},
   "source": [
    "SVM"
   ]
  },
  {
   "cell_type": "code",
   "execution_count": null,
   "metadata": {},
   "outputs": [
    {
     "name": "stdout",
     "output_type": "stream",
     "text": [
      "Training Confusion Matrix : \n",
      " [[108   0]\n",
      " [  2  60]]\n",
      "\n",
      "TRAIN DATA ACCURACY 0.9882352941176471\n",
      "\n",
      "Train data f1-score for class '1' 0.9836065573770492\n",
      "\n",
      "Train data f1-score for class '2' 0.9908256880733944\n",
      "\n",
      "\n",
      "--------------------------------------\n",
      "\n",
      "\n",
      "Testing Confusion Matrix : \n",
      " [[242   7]\n",
      " [  9 141]]\n",
      "\n",
      "TEST DATA ACCURACY 0.9598997493734336\n",
      "\n",
      "Test data f1-score for class '1' 0.9463087248322148\n",
      "\n",
      "Test data f1-score for class '2' 0.968\n"
     ]
    }
   ],
   "source": [
    "train_predictions = linear_svm.predict(xtr)\n",
    "test_predictions = linear_svm.predict(xte)\n",
    "\n",
    "### Train data accuracy\n",
    "from sklearn.metrics import accuracy_score,f1_score\n",
    "\n",
    "print(\"Training Confusion Matrix : \\n\", confusion_matrix(ytr, train_predictions))\n",
    "print(\"\\nTRAIN DATA ACCURACY\",accuracy_score(ytr,train_predictions))\n",
    "print(\"\\nTrain data f1-score for class '1'\",f1_score(ytr,train_predictions,pos_label=1))\n",
    "print(\"\\nTrain data f1-score for class '2'\",f1_score(ytr,train_predictions,pos_label=0))\n",
    "\n",
    "### Test data accuracy\n",
    "print(\"\\n\\n--------------------------------------\\n\\n\")\n",
    "\n",
    "print(\"Testing Confusion Matrix : \\n\", confusion_matrix(yte, test_predictions))\n",
    "print(\"\\nTEST DATA ACCURACY\",accuracy_score(yte,test_predictions))\n",
    "print(\"\\nTest data f1-score for class '1'\",f1_score(yte,test_predictions,pos_label=1))\n",
    "print(\"\\nTest data f1-score for class '2'\",f1_score(yte,test_predictions,pos_label=0))"
   ]
  },
  {
   "attachments": {},
   "cell_type": "markdown",
   "metadata": {},
   "source": [
    "K-Nearest Neighbor"
   ]
  },
  {
   "cell_type": "code",
   "execution_count": null,
   "metadata": {},
   "outputs": [
    {
     "data": {
      "text/plain": [
       "KNeighborsClassifier(n_neighbors=7)"
      ]
     },
     "metadata": {},
     "output_type": "display_data"
    }
   ],
   "source": [
    "from sklearn.neighbors import KNeighborsClassifier \n",
    "from sklearn.model_selection import train_test_split \n",
    "from sklearn.datasets import load_iris\n",
    "knn = KNeighborsClassifier(n_neighbors=7)\n",
    "knn.fit(xtr, ytr)"
   ]
  },
  {
   "cell_type": "code",
   "execution_count": null,
   "metadata": {},
   "outputs": [
    {
     "name": "stdout",
     "output_type": "stream",
     "text": [
      "Training Confusion Matrix : \n",
      " [[106   2]\n",
      " [  5  57]]\n",
      "\n",
      "TRAIN DATA ACCURACY 0.9588235294117647\n",
      "\n",
      "Train data f1-score for class '1' 0.9421487603305785\n",
      "\n",
      "Train data f1-score for class '2' 0.9680365296803655\n",
      "\n",
      "\n",
      "--------------------------------------\n",
      "\n",
      "\n",
      "Testing Confusion Matrix : \n",
      " [[243   6]\n",
      " [ 17 133]]\n",
      "\n",
      "TEST DATA ACCURACY 0.9423558897243107\n",
      "\n",
      "Test data f1-score for class '1' 0.9204152249134949\n",
      "\n",
      "Test data f1-score for class '2' 0.9548133595284873\n"
     ]
    },
    {
     "name": "stderr",
     "output_type": "stream",
     "text": [
      "c:\\Users\\binay\\anaconda3\\lib\\site-packages\\sklearn\\neighbors\\_classification.py:228: FutureWarning: Unlike other reduction functions (e.g. `skew`, `kurtosis`), the default behavior of `mode` typically preserves the axis it acts along. In SciPy 1.11.0, this behavior will change: the default value of `keepdims` will become False, the `axis` over which the statistic is taken will be eliminated, and the value None will no longer be accepted. Set `keepdims` to True or False to avoid this warning.\n",
      "  mode, _ = stats.mode(_y[neigh_ind, k], axis=1)\n",
      "c:\\Users\\binay\\anaconda3\\lib\\site-packages\\sklearn\\neighbors\\_classification.py:228: FutureWarning: Unlike other reduction functions (e.g. `skew`, `kurtosis`), the default behavior of `mode` typically preserves the axis it acts along. In SciPy 1.11.0, this behavior will change: the default value of `keepdims` will become False, the `axis` over which the statistic is taken will be eliminated, and the value None will no longer be accepted. Set `keepdims` to True or False to avoid this warning.\n",
      "  mode, _ = stats.mode(_y[neigh_ind, k], axis=1)\n"
     ]
    }
   ],
   "source": [
    "train_predictions = knn.predict(xtr)\n",
    "test_predictions = knn.predict(xte)\n",
    "\n",
    "### Train data accuracy\n",
    "from sklearn.metrics import accuracy_score,f1_score\n",
    "\n",
    "print(\"Training Confusion Matrix : \\n\", confusion_matrix(ytr, train_predictions))\n",
    "print(\"\\nTRAIN DATA ACCURACY\",accuracy_score(ytr,train_predictions))\n",
    "print(\"\\nTrain data f1-score for class '1'\",f1_score(ytr,train_predictions,pos_label=1))\n",
    "print(\"\\nTrain data f1-score for class '2'\",f1_score(ytr,train_predictions,pos_label=0))\n",
    "\n",
    "### Test data accuracy\n",
    "print(\"\\n\\n--------------------------------------\\n\\n\")\n",
    "\n",
    "print(\"Testing Confusion Matrix : \\n\", confusion_matrix(yte, test_predictions))\n",
    "print(\"\\nTEST DATA ACCURACY\",accuracy_score(yte,test_predictions))\n",
    "print(\"\\nTest data f1-score for class '1'\",f1_score(yte,test_predictions,pos_label=1))\n",
    "print(\"\\nTest data f1-score for class '2'\",f1_score(yte,test_predictions,pos_label=0))"
   ]
  },
  {
   "attachments": {},
   "cell_type": "markdown",
   "metadata": {},
   "source": [
    "XGBoost"
   ]
  },
  {
   "cell_type": "code",
   "execution_count": null,
   "metadata": {},
   "outputs": [],
   "source": [
    "from numpy import loadtxt\n",
    "from xgboost import XGBClassifier\n",
    "from sklearn.ensemble import RandomForestClassifier\n",
    "from sklearn.model_selection import train_test_split\n",
    "from sklearn.metrics import accuracy_score\n"
   ]
  },
  {
   "cell_type": "code",
   "execution_count": null,
   "metadata": {},
   "outputs": [
    {
     "data": {
      "text/plain": [
       "XGBClassifier(base_score=None, booster=None, callbacks=None,\n",
       "              colsample_bylevel=None, colsample_bynode=None,\n",
       "              colsample_bytree=None, early_stopping_rounds=None,\n",
       "              enable_categorical=False, eval_metric=None, feature_types=None,\n",
       "              gamma=None, gpu_id=None, grow_policy=None, importance_type=None,\n",
       "              interaction_constraints=None, learning_rate=None, max_bin=None,\n",
       "              max_cat_threshold=None, max_cat_to_onehot=None,\n",
       "              max_delta_step=None, max_depth=None, max_leaves=None,\n",
       "              min_child_weight=None, missing=nan, monotone_constraints=None,\n",
       "              n_estimators=100, n_jobs=None, num_parallel_tree=None,\n",
       "              predictor=None, random_state=None, ...)"
      ]
     },
     "metadata": {},
     "output_type": "display_data"
    }
   ],
   "source": [
    "model = XGBClassifier()\n",
    "model.fit(xtr, ytr)"
   ]
  },
  {
   "cell_type": "code",
   "execution_count": null,
   "metadata": {},
   "outputs": [
    {
     "data": {
      "text/plain": [
       "XGBClassifier(base_score=None, booster=None, callbacks=None,\n",
       "              colsample_bylevel=None, colsample_bynode=None,\n",
       "              colsample_bytree=None, early_stopping_rounds=None,\n",
       "              enable_categorical=False, eval_metric=None, feature_types=None,\n",
       "              gamma=None, gpu_id=None, grow_policy=None, importance_type=None,\n",
       "              interaction_constraints=None, learning_rate=None, max_bin=None,\n",
       "              max_cat_threshold=None, max_cat_to_onehot=None,\n",
       "              max_delta_step=None, max_depth=None, max_leaves=None,\n",
       "              min_child_weight=None, missing=nan, monotone_constraints=None,\n",
       "              n_estimators=100, n_jobs=None, num_parallel_tree=None,\n",
       "              predictor=None, random_state=None, ...)"
      ]
     },
     "metadata": {},
     "output_type": "display_data"
    }
   ],
   "source": [
    "from xgboost import XGBClassifier\n",
    "\n",
    "# Create an instance of the classifier\n",
    "classifier = XGBClassifier()\n",
    "\n",
    "# Train the classifier on the training data\n",
    "classifier.fit(xtr, ytr)"
   ]
  },
  {
   "cell_type": "code",
   "execution_count": null,
   "metadata": {},
   "outputs": [
    {
     "name": "stdout",
     "output_type": "stream",
     "text": [
      "Traininf Confusion Matrix : \n",
      " [[108   0]\n",
      " [  0  62]]\n",
      "\n",
      "TRAIN DATA ACCURACY 1.0\n",
      "\n",
      "Train data f1-score for class '1' 1.0\n",
      "\n",
      "Train data f1-score for class '2' 1.0\n",
      "\n",
      "\n",
      "--------------------------------------\n",
      "\n",
      "\n",
      "Testing Confusion Matrix : \n",
      " [[240   9]\n",
      " [ 10 140]]\n",
      "\n",
      "TEST DATA ACCURACY 0.9523809523809523\n",
      "\n",
      "Test data f1-score for class '1' 0.9364548494983278\n",
      "\n",
      "Test data f1-score for class '2' 0.9619238476953907\n"
     ]
    }
   ],
   "source": [
    "# Make predictions on the training and test data\n",
    "train_predictions = classifier.predict(xtr)\n",
    "test_predictions = classifier.predict(xte)\n",
    "\n",
    "### Train data accuracy\n",
    "from sklearn.metrics import accuracy_score,f1_score\n",
    "\n",
    "print(\"Training Confusion Matrix : \\n\", confusion_matrix(ytr, train_predictions))\n",
    "print(\"\\nTRAIN DATA ACCURACY\",accuracy_score(ytr,train_predictions))\n",
    "print(\"\\nTrain data f1-score for class '1'\",f1_score(ytr,train_predictions,pos_label=1))\n",
    "print(\"\\nTrain data f1-score for class '2'\",f1_score(ytr,train_predictions,pos_label=0))\n",
    "\n",
    "### Test data accuracy\n",
    "print(\"\\n\\n--------------------------------------\\n\\n\")\n",
    "\n",
    "print(\"Testing Confusion Matrix : \\n\", confusion_matrix(yte, test_predictions))\n",
    "print(\"\\nTEST DATA ACCURACY\",accuracy_score(yte,test_predictions))\n",
    "print(\"\\nTest data f1-score for class '1'\",f1_score(yte,test_predictions,pos_label=1))\n",
    "print(\"\\nTest data f1-score for class '2'\",f1_score(yte,test_predictions,pos_label=0))"
   ]
  },
  {
   "attachments": {},
   "cell_type": "markdown",
   "metadata": {},
   "source": [
    "Based on the results obtained from the different classification algorithms, the following conclusions can be drawn:\n",
    "\n",
    "1.Decision Tree Classifier: The decision tree classifier shows good performance on both the training and test data, with high accuracy and f1-scores for both classes. It exhibits a clear decision-making process, which makes it interpretable. However, there is a possibility of overfitting, as the training accuracy is significantly higher than the test accuracy.\n",
    "\n",
    "2.Neural Network Classifier: The neural network classifier (MLPClassifier) demonstrates competitive performance with decent accuracy and f1-scores on the test data. Neural networks have the advantage of capturing complex relationships in the data. However, they can be computationally expensive to train, and their interpretability is limited compared to decision trees.\n",
    "\n",
    "3.Support Vector Machine (SVM): The linear SVM classifier performs well, with high accuracy and f1-scores on both training and test data. SVMs are known for their effectiveness in handling high-dimensional data and providing good generalization. They are also relatively interpretable, especially in the case of linear kernels.\n",
    "\n",
    "4.K-Nearest Neighbors (KNN): The KNN classifier achieves reasonable accuracy and f1-scores on the test data. However, KNN can be computationally expensive, especially as the number of neighbors increases. It may not scale well to large datasets. Interpretability is also limited in KNN compared to decision trees.\n",
    "\n",
    "5.XGBoost Classifier: The XGBoost classifier demonstrates strong performance with high accuracy and f1-scores on both training and test data. XGBoost is an ensemble method known for its ability to handle complex datasets and deliver competitive results. It may offer improved performance compared to individual decision trees. However, interpretability is challenging in ensemble models like XGBoost.\n",
    "\n",
    "Overall, the decision tree classifier, SVM, and XGBoost classifier exhibit the best performance in terms of accuracy and f1-scores. The choice of algorithm depends on factors such as interpretability, scalability, and the specific requirements of the problem. It is recommended to further investigate the models showing promising results and perform additional evaluations, such as cross-validation, to ensure robustness."
   ]
  }
 ],
 "metadata": {
  "kernelspec": {
   "display_name": "base",
   "language": "python",
   "name": "python3"
  },
  "language_info": {
   "codemirror_mode": {
    "name": "ipython",
    "version": 3
   },
   "file_extension": ".py",
   "mimetype": "text/x-python",
   "name": "python",
   "nbconvert_exporter": "python",
   "pygments_lexer": "ipython3",
   "version": "3.9.13"
  },
  "orig_nbformat": 4
 },
 "nbformat": 4,
 "nbformat_minor": 2
}
